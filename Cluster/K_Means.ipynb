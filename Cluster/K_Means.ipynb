{
  "nbformat": 4,
  "nbformat_minor": 0,
  "metadata": {
    "colab": {
      "name": "K_Means.ipynb",
      "version": "0.3.2",
      "provenance": [],
      "include_colab_link": true
    },
    "kernelspec": {
      "name": "python3",
      "display_name": "Python 3"
    }
  },
  "cells": [
    {
      "cell_type": "markdown",
      "metadata": {
        "id": "view-in-github",
        "colab_type": "text"
      },
      "source": [
        "<a href=\"https://colab.research.google.com/github/agarwalanant/Machine_Learning/blob/master/Cluster/K_Means.ipynb\" target=\"_parent\"><img src=\"https://colab.research.google.com/assets/colab-badge.svg\" alt=\"Open In Colab\"/></a>"
      ]
    },
    {
      "metadata": {
        "id": "yfAXyQ5VGb3q",
        "colab_type": "code",
        "colab": {}
      },
      "cell_type": "code",
      "source": [
        ""
      ],
      "execution_count": 0,
      "outputs": []
    },
    {
      "metadata": {
        "id": "mt2kIbff_3lG",
        "colab_type": "code",
        "colab": {
          "base_uri": "https://localhost:8080/",
          "height": 128
        },
        "outputId": "8694b929-c368-4a83-f3b5-c2c589947136"
      },
      "cell_type": "code",
      "source": [
        "from google.colab import drive\n",
        "drive.mount('/content/gdrive')"
      ],
      "execution_count": 1,
      "outputs": [
        {
          "output_type": "stream",
          "text": [
            "Go to this URL in a browser: https://accounts.google.com/o/oauth2/auth?client_id=947318989803-6bn6qk8qdgf4n4g3pfee6491hc0brc4i.apps.googleusercontent.com&redirect_uri=urn%3Aietf%3Awg%3Aoauth%3A2.0%3Aoob&scope=email%20https%3A%2F%2Fwww.googleapis.com%2Fauth%2Fdocs.test%20https%3A%2F%2Fwww.googleapis.com%2Fauth%2Fdrive%20https%3A%2F%2Fwww.googleapis.com%2Fauth%2Fdrive.photos.readonly%20https%3A%2F%2Fwww.googleapis.com%2Fauth%2Fpeopleapi.readonly&response_type=code\n",
            "\n",
            "Enter your authorization code:\n",
            "··········\n",
            "Mounted at /content/gdrive\n"
          ],
          "name": "stdout"
        }
      ]
    },
    {
      "metadata": {
        "id": "pKiwnuAiDJvA",
        "colab_type": "code",
        "outputId": "0999d9be-d5c0-4838-85f3-6c57ec22f3ac",
        "colab": {
          "base_uri": "https://localhost:8080/",
          "height": 707
        }
      },
      "cell_type": "code",
      "source": [
        "!wget http://www.superdatascience.com/wp-content/uploads/2017/02/K_Means.zip\n",
        "!unzip K_Means.zip -d gdrive/My\\ \\Drive/MachineLearning"
      ],
      "execution_count": 5,
      "outputs": [
        {
          "output_type": "stream",
          "text": [
            "--2018-10-30 07:50:08--  http://www.superdatascience.com/wp-content/uploads/2017/02/K_Means.zip\n",
            "Resolving www.superdatascience.com (www.superdatascience.com)... 104.27.173.21, 104.27.172.21, 2606:4700:30::681b:ac15, ...\n",
            "Connecting to www.superdatascience.com (www.superdatascience.com)|104.27.173.21|:80... connected.\n",
            "HTTP request sent, awaiting response... 301 Moved Permanently\n",
            "Location: https://www.superdatascience.com/wp-content/uploads/2017/02/K_Means.zip [following]\n",
            "--2018-10-30 07:50:08--  https://www.superdatascience.com/wp-content/uploads/2017/02/K_Means.zip\n",
            "Connecting to www.superdatascience.com (www.superdatascience.com)|104.27.173.21|:443... connected.\n",
            "HTTP request sent, awaiting response... 200 OK\n",
            "Length: 5612 (5.5K) [application/zip]\n",
            "Saving to: ‘K_Means.zip.1’\n",
            "\n",
            "\rK_Means.zip.1         0%[                    ]       0  --.-KB/s               \rK_Means.zip.1       100%[===================>]   5.48K  --.-KB/s    in 0s      \n",
            "\n",
            "2018-10-30 07:50:08 (45.3 MB/s) - ‘K_Means.zip.1’ saved [5612/5612]\n",
            "\n",
            "Archive:  K_Means.zip\n",
            "replace gdrive/My Drive/MachineLearning/K_Means/.DS_Store? [y]es, [n]o, [A]ll, [N]one, [r]ename: a\n",
            "error:  invalid response [a]\n",
            "replace gdrive/My Drive/MachineLearning/K_Means/.DS_Store? [y]es, [n]o, [A]ll, [N]one, [r]ename: ya\n",
            "  inflating: gdrive/My Drive/MachineLearning/K_Means/.DS_Store  \n",
            "replace gdrive/My Drive/MachineLearning/__MACOSX/K_Means/._.DS_Store? [y]es, [n]o, [A]ll, [N]one, [r]ename: ay\n",
            "error:  invalid response [ay]\n",
            "replace gdrive/My Drive/MachineLearning/__MACOSX/K_Means/._.DS_Store? [y]es, [n]o, [A]ll, [N]one, [r]ename: y\n",
            "  inflating: gdrive/My Drive/MachineLearning/__MACOSX/K_Means/._.DS_Store  \n",
            "replace gdrive/My Drive/MachineLearning/K_Means/data_preprocessing_template.py? [y]es, [n]o, [A]ll, [N]one, [r]ename: \n",
            "error:  invalid response [{ENTER}]\n",
            "replace gdrive/My Drive/MachineLearning/K_Means/data_preprocessing_template.py? [y]es, [n]o, [A]ll, [N]one, [r]ename: y\n",
            "  inflating: gdrive/My Drive/MachineLearning/K_Means/data_preprocessing_template.py  \n",
            "replace gdrive/My Drive/MachineLearning/K_Means/data_preprocessing_template.R? [y]es, [n]o, [A]ll, [N]one, [r]ename: yy\n",
            "  inflating: gdrive/My Drive/MachineLearning/K_Means/data_preprocessing_template.R  \n",
            "replace gdrive/My Drive/MachineLearning/K_Means/kmeans.py? [y]es, [n]o, [A]ll, [N]one, [r]ename: y\n",
            "  inflating: gdrive/My Drive/MachineLearning/K_Means/kmeans.py  \n",
            "replace gdrive/My Drive/MachineLearning/K_Means/kmeans.R? [y]es, [n]o, [A]ll, [N]one, [r]ename: y\n",
            "  inflating: gdrive/My Drive/MachineLearning/K_Means/kmeans.R  \n",
            "replace gdrive/My Drive/MachineLearning/K_Means/Mall_Customers.csv? [y]es, [n]o, [A]ll, [N]one, [r]ename: y\n",
            "  inflating: gdrive/My Drive/MachineLearning/K_Means/Mall_Customers.csv  \n",
            "replace gdrive/My Drive/MachineLearning/__MACOSX/K_Means/._Mall_Customers.csv? [y]es, [n]o, [A]ll, [N]one, [r]ename: y\n",
            "  inflating: gdrive/My Drive/MachineLearning/__MACOSX/K_Means/._Mall_Customers.csv  \n"
          ],
          "name": "stdout"
        }
      ]
    },
    {
      "metadata": {
        "id": "t5UfEav-Gn15",
        "colab_type": "code",
        "colab": {}
      },
      "cell_type": "code",
      "source": [
        "import numpy as np\n",
        "import pandas as pd\n",
        "import matplotlib.pyplot as plt"
      ],
      "execution_count": 0,
      "outputs": []
    },
    {
      "metadata": {
        "id": "NL8n-E-N8fh2",
        "colab_type": "code",
        "colab": {}
      },
      "cell_type": "code",
      "source": [
        "dataset = pd.read_csv(\"gdrive/My Drive/MachineLearning/K_Means/Mall_Customers.csv\")"
      ],
      "execution_count": 0,
      "outputs": []
    },
    {
      "metadata": {
        "id": "8JqNE_ro8vVi",
        "colab_type": "code",
        "colab": {}
      },
      "cell_type": "code",
      "source": [
        "X=dataset.iloc[:,[3,4]].values\n"
      ],
      "execution_count": 0,
      "outputs": []
    },
    {
      "metadata": {
        "id": "oEunInzC9Vn2",
        "colab_type": "code",
        "colab": {
          "base_uri": "https://localhost:8080/",
          "height": 365
        },
        "outputId": "2ef21c38-ea10-4f24-bcd8-246d08c8b4c3"
      },
      "cell_type": "code",
      "source": [
        "from sklearn.cluster import KMeans  \n",
        "wcss=[]\n",
        "for i in range (1,50):\n",
        "  kmeans=KMeans(n_clusters = i,init = 'k-means++',max_iter=300,n_init=10)\n",
        "  kmeans.fit(X)\n",
        "  wcss.append(kmeans.inertia_)\n",
        "plt.plot(range(1,50),wcss)\n",
        "plt.show"
      ],
      "execution_count": 13,
      "outputs": [
        {
          "output_type": "execute_result",
          "data": {
            "text/plain": [
              "<function matplotlib.pyplot.show>"
            ]
          },
          "metadata": {
            "tags": []
          },
          "execution_count": 13
        },
        {
          "output_type": "display_data",
          "data": {
            "image/png": "[encoded data removed]",
            "text/plain": [
              "<matplotlib.figure.Figure at 0x7f0dd475be48>"
            ]
          },
          "metadata": {
            "tags": []
          }
        }
      ]
    },
    {
      "metadata": {
        "id": "u2MltpVH-csD",
        "colab_type": "code",
        "colab": {}
      },
      "cell_type": "code",
      "source": [
        "kmeans=KMeans(n_clusters=5,init='k-means++')\n",
        "y_pred=kmeans.fit_predict(X)"
      ],
      "execution_count": 0,
      "outputs": []
    },
    {
      "metadata": {
        "id": "V0il_4Ed-7B_",
        "colab_type": "code",
        "colab": {
          "base_uri": "https://localhost:8080/",
          "height": 365
        },
        "outputId": "45a84fc9-64a9-45f6-c3a5-bd46b84c9841"
      },
      "cell_type": "code",
      "source": [
        "plt.scatter(X[y_pred ==0,0],X[y_pred ==0,1],c='red')\n",
        "plt.scatter(X[y_pred ==1,0],X[y_pred ==1,1],c='blue')\n",
        "plt.scatter(X[y_pred ==2,0],X[y_pred ==2,1],c='green')\n",
        "plt.scatter(X[y_pred ==3,0],X[y_pred ==3,1],c='yellow')\n",
        "plt.scatter(X[y_pred ==4,0],X[y_pred ==4,1],c='cyan')\n",
        "plt.scatter(kmeans.cluster_centers_[:,0],kmeans.cluster_centers_[:,1],s=300)"
      ],
      "execution_count": 22,
      "outputs": [
        {
          "output_type": "execute_result",
          "data": {
            "text/plain": [
              "<matplotlib.collections.PathCollection at 0x7f0dd44fd320>"
            ]
          },
          "metadata": {
            "tags": []
          },
          "execution_count": 22
        },
        {
          "output_type": "display_data",
          "data": {
            "image/png": "[encoded data removed]",
            "text/plain": [
              "<matplotlib.figure.Figure at 0x7f0dd470d780>"
            ]
          },
          "metadata": {
            "tags": []
          }
        }
      ]
    },
    {
      "metadata": {
        "id": "nyE1T0o9_Vmg",
        "colab_type": "code",
        "colab": {}
      },
      "cell_type": "code",
      "source": [
        ""
      ],
      "execution_count": 0,
      "outputs": []
    }
  ]
}