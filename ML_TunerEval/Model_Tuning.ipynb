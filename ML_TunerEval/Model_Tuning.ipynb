{
  "nbformat": 4,
  "nbformat_minor": 0,
  "metadata": {
    "colab": {
      "name": "Copy of Model Tuning.ipynb",
      "version": "0.3.2",
      "provenance": [],
      "collapsed_sections": [],
      "toc_visible": true,
      "include_colab_link": true
    },
    "kernelspec": {
      "name": "python3",
      "display_name": "Python 3"
    }
  },
  "cells": [
    {
      "cell_type": "markdown",
      "metadata": {
        "id": "view-in-github",
        "colab_type": "text"
      },
      "source": [
        "<a href=\"https://colab.research.google.com/github/agarwalanant/Machine_Learning/blob/master/ML_TunerEval/Model_Tuning.ipynb\" target=\"_parent\"><img src=\"https://colab.research.google.com/assets/colab-badge.svg\" alt=\"Open In Colab\"/></a>"
      ]
    },
    {
      "metadata": {
        "id": "MFcLnBt3K7GL",
        "colab_type": "code",
        "colab": {}
      },
      "cell_type": "code",
      "source": [
        "from google.colab import drive\n",
        "drive.mount('/content/gdrive')"
      ],
      "execution_count": 0,
      "outputs": []
    },
    {
      "metadata": {
        "id": "F0s5_pEOLPiv",
        "colab_type": "code",
        "colab": {}
      },
      "cell_type": "code",
      "source": [
        "import random\n",
        "\n",
        "#Universal Imports\n",
        "import pandas as pd\n",
        "import numpy as np\n",
        "import matplotlib.pyplot as plt\n",
        "%matplotlib inline\n",
        "\n",
        "#For Random Search\n",
        "from time import time\n",
        "from scipy.stats import randint as sp_randint\n",
        "# from sklearn.model_selection import GridSearchCV\n",
        "from sklearn.model_selection import RandomizedSearchCV\n",
        "\n",
        "#Models\n",
        "import xgboost as xgb\n",
        "from sklearn.ensemble import RandomForestClassifier\n",
        "from sklearn import svm"
      ],
      "execution_count": 0,
      "outputs": []
    },
    {
      "metadata": {
        "id": "r9bMYY4qhvYf",
        "colab_type": "code",
        "colab": {}
      },
      "cell_type": "code",
      "source": [
        "data=pd.read_csv(\"gdrive/My Drive/infosys/creditcard.csv\")\n",
        "\n",
        "Fraud_transacation = data[data[\"Class\"]==1]\n",
        "Normal_transacation= data[data[\"Class\"]==0]\n",
        "\n",
        "i=0\n",
        "d={}\n",
        "for x in range(1,143):\n",
        "  d[\"{0}\".format(x)]=split1=Normal_transacation.iloc[i:i+2000,:]\n",
        "  i +=2000\n",
        "  \n",
        "fraud=Fraud_transacation.iloc[0:300,:]\n",
        "f={}\n",
        "for x in range(1,140):\n",
        "  c = [d[\"{0}\".format(x)],fraud]\n",
        "  f[\"{0}\".format(x)]= pd.concat(c)\n",
        "  f[\"{0}\".format(x)] = f[\"{0}\".format(x)].sample(frac=1).reset_index(drop=True)\n",
        "  \n",
        "x_split={}\n",
        "y_split={}\n",
        "for x in range(1,140):\n",
        "  y_split[\"{0}\".format(x)]=f[\"{0}\".format(x)][\"Class\"]\n",
        "  x_split[\"{0}\".format(x)]= f[\"{0}\".format(x)].drop([\"Class\"],axis=1)\n",
        "  \n",
        "x_array={}\n",
        "y_array={}\n",
        "for x in range(1,140):\n",
        "  x_array[\"{0}\".format(x)]=x_split[\"{0}\".format(x)].values\n",
        "  y_array[\"{0}\".format(x)]=y_split[\"{0}\".format(x)].values  \n",
        "  \n",
        "# x_smote_array={}\n",
        "# y_smote_array={}\n",
        "# for x in range(1,140):\n",
        "#   sm = SMOTE(random_state=(20))\n",
        "#   x_smote_array[\"{0}\".format(x)], y_smote_array[\"{0}\".format(x)] = sm.fit_resample(x_array[\"{0}\".format(x)],y_array[\"{0}\".format(x)])\n",
        "  \n",
        "# \"\"\"Converting numpy array back to pandas data frame\"\"\"\n",
        "# x_smote_df={}\n",
        "# y_smote_df={}\n",
        "# for x in range(1,140):\n",
        "#   x_smote_df[\"{0}\".format(x)] = pd.DataFrame(x_smote_array[\"{0}\".format(x)])\n",
        "#   y_smote_df[\"{0}\".format(x)] = pd.DataFrame(y_smote_array[\"{0}\".format(x)])  "
      ],
      "execution_count": 0,
      "outputs": []
    },
    {
      "metadata": {
        "id": "HLI-IEHMpKQ5",
        "colab_type": "text"
      },
      "cell_type": "markdown",
      "source": [
        "XGBClassifier(base_score=0.5, booster='gbtree', colsample_bylevel=1,\n",
        "       colsample_bytree=1, gamma=0, learning_rate=0.05, max_delta_step=0,\n",
        "       max_depth=3, min_child_weight=1, missing=None, n_estimators=300,\n",
        "       n_jobs=1, nthread=None, objective='binary:logistic', random_state=0,\n",
        "       reg_alpha=0, reg_lambda=1, scale_pos_weight=1, seed=None,\n",
        "       silent=True, subsample=1)"
      ]
    },
    {
      "metadata": {
        "id": "20PNbCfvtTEC",
        "colab_type": "code",
        "colab": {
          "base_uri": "https://localhost:8080/",
          "height": 35
        },
        "outputId": "30078dea-b06a-4fec-9add-869971825c3a"
      },
      "cell_type": "code",
      "source": [
        "# x_smote_array[\"1\"].shape"
      ],
      "execution_count": 25,
      "outputs": [
        {
          "output_type": "execute_result",
          "data": {
            "text/plain": [
              "(4000, 30)"
            ]
          },
          "metadata": {
            "tags": []
          },
          "execution_count": 25
        }
      ]
    },
    {
      "metadata": {
        "id": "D8lb_EBpj6tw",
        "colab_type": "code",
        "colab": {
          "base_uri": "https://localhost:8080/",
          "height": 255
        },
        "outputId": "980f5e81-3b95-4b45-ecf1-6cf180594767"
      },
      "cell_type": "code",
      "source": [
        "#Data\n",
        "X=x_array[\"1\"]\n",
        "Y=y_array[\"1\"]\n",
        "# build a classifier\n",
        "clf =  xgb.XGBClassifier()\n",
        "\n",
        "param_dist = {\"base_score\":[0.5,0.6,0.7,0.8,0.9],\n",
        "             \"learning_rate\":[0.01,0.5],\n",
        "             \"n_estimators\":[32,350,400]\n",
        "             }\n",
        "random_search = RandomizedSearchCV(clf, param_distributions=param_dist,\n",
        "                                   n_iter=10,scoring=[\"f1\"],refit=False)\n",
        "\n",
        "random_search.fit(X,Y)"
      ],
      "execution_count": 40,
      "outputs": [
        {
          "output_type": "stream",
          "text": [
            "/usr/local/lib/python3.6/dist-packages/sklearn/model_selection/_split.py:1943: FutureWarning: You should specify a value for 'cv' instead of relying on the default value. The default value will change from 3 to 5 in version 0.22.\n",
            "  warnings.warn(CV_WARNING, FutureWarning)\n"
          ],
          "name": "stderr"
        },
        {
          "output_type": "execute_result",
          "data": {
            "text/plain": [
              "RandomizedSearchCV(cv='warn', error_score='raise-deprecating',\n",
              "          estimator=XGBClassifier(base_score=0.5, booster='gbtree', colsample_bylevel=1,\n",
              "       colsample_bytree=1, gamma=0, learning_rate=0.1, max_delta_step=0,\n",
              "       max_depth=3, min_child_weight=1, missing=None, n_estimators=100,\n",
              "       n_jobs=1, nthread=None, objective='binary:logistic', random_state=0,\n",
              "       reg_alpha=0, reg_lambda=1, scale_pos_weight=1, seed=None,\n",
              "       silent=True, subsample=1),\n",
              "          fit_params=None, iid='warn', n_iter=10, n_jobs=None,\n",
              "          param_distributions={'base_score': [0.5, 0.6, 0.7, 0.8, 0.9], 'learning_rate': [0.01, 0.5], 'n_estimators': [32, 350, 400]},\n",
              "          pre_dispatch='2*n_jobs', random_state=None, refit=False,\n",
              "          return_train_score='warn', scoring=['f1'], verbose=0)"
            ]
          },
          "metadata": {
            "tags": []
          },
          "execution_count": 40
        }
      ]
    },
    {
      "metadata": {
        "id": "WIik7KA0q2Wg",
        "colab_type": "code",
        "colab": {
          "base_uri": "https://localhost:8080/",
          "height": 1162
        },
        "outputId": "e14440d1-c1fa-4dc2-841e-0966f6074867"
      },
      "cell_type": "code",
      "source": [
        "random_search.cv_results_"
      ],
      "execution_count": 41,
      "outputs": [
        {
          "output_type": "stream",
          "text": [
            "/usr/local/lib/python3.6/dist-packages/sklearn/utils/deprecation.py:125: FutureWarning: You are accessing a training score ('mean_train_f1'), which will not be available by default any more in 0.21. If you need training scores, please set return_train_score=True\n",
            "  warnings.warn(*warn_args, **warn_kwargs)\n",
            "/usr/local/lib/python3.6/dist-packages/sklearn/utils/deprecation.py:125: FutureWarning: You are accessing a training score ('split0_train_f1'), which will not be available by default any more in 0.21. If you need training scores, please set return_train_score=True\n",
            "  warnings.warn(*warn_args, **warn_kwargs)\n",
            "/usr/local/lib/python3.6/dist-packages/sklearn/utils/deprecation.py:125: FutureWarning: You are accessing a training score ('split1_train_f1'), which will not be available by default any more in 0.21. If you need training scores, please set return_train_score=True\n",
            "  warnings.warn(*warn_args, **warn_kwargs)\n",
            "/usr/local/lib/python3.6/dist-packages/sklearn/utils/deprecation.py:125: FutureWarning: You are accessing a training score ('split2_train_f1'), which will not be available by default any more in 0.21. If you need training scores, please set return_train_score=True\n",
            "  warnings.warn(*warn_args, **warn_kwargs)\n",
            "/usr/local/lib/python3.6/dist-packages/sklearn/utils/deprecation.py:125: FutureWarning: You are accessing a training score ('std_train_f1'), which will not be available by default any more in 0.21. If you need training scores, please set return_train_score=True\n",
            "  warnings.warn(*warn_args, **warn_kwargs)\n"
          ],
          "name": "stderr"
        },
        {
          "output_type": "execute_result",
          "data": {
            "text/plain": [
              "{'mean_fit_time': array([0.85129015, 0.78752613, 0.84654291, 0.30831647, 0.75315491,\n",
              "        0.75834457, 0.35046506, 0.85516707, 0.30876144, 0.06178244]),\n",
              " 'mean_score_time': array([0.0048271 , 0.00404882, 0.00585397, 0.00237703, 0.00437729,\n",
              "        0.00434303, 0.00230575, 0.00514197, 0.00252803, 0.0016973 ]),\n",
              " 'mean_test_f1': array([0.99663592, 0.99663592, 0.99663592, 0.99333416, 0.99663592,\n",
              "        0.99663592, 0.99333416, 0.99663592, 0.99333416, 0.23076922]),\n",
              " 'mean_train_f1': array([0.99832916, 0.99748954, 0.99832916, 1.        , 0.99748954,\n",
              "        0.99748954, 1.        , 0.99832916, 1.        , 0.23076925]),\n",
              " 'param_base_score': masked_array(data=[0.9, 0.7, 0.8, 0.9, 0.8, 0.6, 0.7, 0.7, 0.6, 0.9],\n",
              "              mask=[False, False, False, False, False, False, False, False,\n",
              "                    False, False],\n",
              "        fill_value='?',\n",
              "             dtype=object),\n",
              " 'param_learning_rate': masked_array(data=[0.01, 0.01, 0.01, 0.5, 0.01, 0.01, 0.5, 0.01, 0.5,\n",
              "                    0.01],\n",
              "              mask=[False, False, False, False, False, False, False, False,\n",
              "                    False, False],\n",
              "        fill_value='?',\n",
              "             dtype=object),\n",
              " 'param_n_estimators': masked_array(data=[400, 350, 400, 350, 350, 350, 400, 400, 350, 32],\n",
              "              mask=[False, False, False, False, False, False, False, False,\n",
              "                    False, False],\n",
              "        fill_value='?',\n",
              "             dtype=object),\n",
              " 'params': [{'base_score': 0.9, 'learning_rate': 0.01, 'n_estimators': 400},\n",
              "  {'base_score': 0.7, 'learning_rate': 0.01, 'n_estimators': 350},\n",
              "  {'base_score': 0.8, 'learning_rate': 0.01, 'n_estimators': 400},\n",
              "  {'base_score': 0.9, 'learning_rate': 0.5, 'n_estimators': 350},\n",
              "  {'base_score': 0.8, 'learning_rate': 0.01, 'n_estimators': 350},\n",
              "  {'base_score': 0.6, 'learning_rate': 0.01, 'n_estimators': 350},\n",
              "  {'base_score': 0.7, 'learning_rate': 0.5, 'n_estimators': 400},\n",
              "  {'base_score': 0.7, 'learning_rate': 0.01, 'n_estimators': 400},\n",
              "  {'base_score': 0.6, 'learning_rate': 0.5, 'n_estimators': 350},\n",
              "  {'base_score': 0.9, 'learning_rate': 0.01, 'n_estimators': 32}],\n",
              " 'rank_test_f1': array([ 1,  1,  1,  7,  1,  1,  7,  1,  7, 10], dtype=int32),\n",
              " 'split0_test_f1': array([1.        , 1.        , 1.        , 1.        , 1.        ,\n",
              "        1.        , 1.        , 1.        , 1.        , 0.23068051]),\n",
              " 'split0_train_f1': array([0.99749373, 0.99497487, 0.99749373, 1.        , 0.99497487,\n",
              "        0.99497487, 1.        , 0.99749373, 1.        , 0.23081362]),\n",
              " 'split1_test_f1': array([1.        , 1.        , 1.        , 0.99009901, 1.        ,\n",
              "        1.        , 0.99009901, 1.        , 0.99009901, 0.23068051]),\n",
              " 'split1_train_f1': array([0.99749373, 0.99749373, 0.99749373, 1.        , 0.99749373,\n",
              "        0.99749373, 1.        , 0.99749373, 1.        , 0.23081362]),\n",
              " 'split2_test_f1': array([0.98989899, 0.98989899, 0.98989899, 0.98989899, 0.98989899,\n",
              "        0.98989899, 0.98989899, 0.98989899, 0.98989899, 0.23094688]),\n",
              " 'split2_train_f1': array([1.        , 1.        , 1.        , 1.        , 1.        ,\n",
              "        1.        , 1.        , 1.        , 1.        , 0.23068051]),\n",
              " 'std_fit_time': array([0.10817111, 0.09435855, 0.10958914, 0.00513923, 0.09545754,\n",
              "        0.10650714, 0.01183001, 0.11650129, 0.00836801, 0.00058391]),\n",
              " 'std_score_time': array([1.21758543e-03, 8.33452087e-04, 1.95976286e-03, 1.94082779e-04,\n",
              "        6.95422008e-04, 1.04481316e-03, 3.13342852e-05, 1.26474696e-03,\n",
              "        2.62491625e-04, 1.03979114e-04]),\n",
              " 'std_test_f1': array([0.00476063, 0.00476063, 0.00476063, 0.0047157 , 0.00476063,\n",
              "        0.00476063, 0.0047157 , 0.00476063, 0.0047157 , 0.00012554]),\n",
              " 'std_train_f1': array([1.18146496e-03, 2.05150109e-03, 1.18146496e-03, 0.00000000e+00,\n",
              "        2.05150109e-03, 2.05150109e-03, 0.00000000e+00, 1.18146496e-03,\n",
              "        0.00000000e+00, 6.27488945e-05])}"
            ]
          },
          "metadata": {
            "tags": []
          },
          "execution_count": 41
        }
      ]
    },
    {
      "metadata": {
        "id": "hLXuqbe_dRuA",
        "colab_type": "code",
        "colab": {
          "base_uri": "https://localhost:8080/",
          "height": 1226
        },
        "outputId": "b06565ad-b8c6-4ff4-d5c5-77fec07c6a9f"
      },
      "cell_type": "code",
      "source": [
        "# Utility function to report best scores\n",
        "def report(results, n_top=3):\n",
        "    for i in range(1, n_top + 1):\n",
        "        candidates = np.flatnonzero(results['rank_test_f1'] == i)\n",
        "        for candidate in candidates:\n",
        "            print(\"Model with rank: {0}\".format(i))\n",
        "            print(\"Mean F1 score: {0:.3f} (std: {1:.3f})\".format(\n",
        "                  results['mean_test_f1'][candidate],\n",
        "                  results['mean_test_f1'][candidate]))\n",
        "            print(\"Parameters: {0}\".format(results['params'][candidate]))\n",
        "            print(\"\")\n",
        "\n",
        "\n",
        "report(random_search.cv_results_)"
      ],
      "execution_count": 38,
      "outputs": [
        {
          "output_type": "stream",
          "text": [
            "Model with rank: 1\n",
            "Mean F1 score: 0.997 (std: 0.997)\n",
            "Parameters: {'n_estimators': 200, 'learning_rate': 0.03, 'base_score': 0.8}\n",
            "\n",
            "Model with rank: 1\n",
            "Mean F1 score: 0.997 (std: 0.997)\n",
            "Parameters: {'n_estimators': 200, 'learning_rate': 0.03, 'base_score': 0.7}\n",
            "\n",
            "Model with rank: 1\n",
            "Mean F1 score: 0.997 (std: 0.997)\n",
            "Parameters: {'n_estimators': 64, 'learning_rate': 0.03, 'base_score': 0.7}\n",
            "\n",
            "Model with rank: 1\n",
            "Mean F1 score: 0.997 (std: 0.997)\n",
            "Parameters: {'n_estimators': 156, 'learning_rate': 0.48, 'base_score': 0.6}\n",
            "\n",
            "Model with rank: 1\n",
            "Mean F1 score: 0.997 (std: 0.997)\n",
            "Parameters: {'n_estimators': 128, 'learning_rate': 0.25, 'base_score': 0.5}\n",
            "\n",
            "Model with rank: 1\n",
            "Mean F1 score: 0.997 (std: 0.997)\n",
            "Parameters: {'n_estimators': 250, 'learning_rate': 0.25, 'base_score': 0.6}\n",
            "\n",
            "Model with rank: 1\n",
            "Mean F1 score: 0.997 (std: 0.997)\n",
            "Parameters: {'n_estimators': 32, 'learning_rate': 0.03, 'base_score': 0.7}\n",
            "\n",
            "Model with rank: 1\n",
            "Mean F1 score: 0.997 (std: 0.997)\n",
            "Parameters: {'n_estimators': 156, 'learning_rate': 0.18, 'base_score': 0.6}\n",
            "\n",
            "Model with rank: 1\n",
            "Mean F1 score: 0.997 (std: 0.997)\n",
            "Parameters: {'n_estimators': 128, 'learning_rate': 0.07, 'base_score': 0.6}\n",
            "\n",
            "Model with rank: 1\n",
            "Mean F1 score: 0.997 (std: 0.997)\n",
            "Parameters: {'n_estimators': 64, 'learning_rate': 0.25, 'base_score': 0.5}\n",
            "\n",
            "Model with rank: 1\n",
            "Mean F1 score: 0.997 (std: 0.997)\n",
            "Parameters: {'n_estimators': 200, 'learning_rate': 0.35, 'base_score': 0.6}\n",
            "\n",
            "Model with rank: 1\n",
            "Mean F1 score: 0.997 (std: 0.997)\n",
            "Parameters: {'n_estimators': 32, 'learning_rate': 0.13, 'base_score': 0.6}\n",
            "\n",
            "Model with rank: 1\n",
            "Mean F1 score: 0.997 (std: 0.997)\n",
            "Parameters: {'n_estimators': 156, 'learning_rate': 0.05, 'base_score': 0.5}\n",
            "\n",
            "Model with rank: 1\n",
            "Mean F1 score: 0.997 (std: 0.997)\n",
            "Parameters: {'n_estimators': 64, 'learning_rate': 0.33, 'base_score': 0.5}\n",
            "\n",
            "Model with rank: 1\n",
            "Mean F1 score: 0.997 (std: 0.997)\n",
            "Parameters: {'n_estimators': 250, 'learning_rate': 0.01, 'base_score': 0.6}\n",
            "\n",
            "Model with rank: 1\n",
            "Mean F1 score: 0.997 (std: 0.997)\n",
            "Parameters: {'n_estimators': 156, 'learning_rate': 0.18, 'base_score': 0.5}\n",
            "\n",
            "Model with rank: 1\n",
            "Mean F1 score: 0.997 (std: 0.997)\n",
            "Parameters: {'n_estimators': 350, 'learning_rate': 0.01, 'base_score': 0.8}\n",
            "\n",
            "Model with rank: 1\n",
            "Mean F1 score: 0.997 (std: 0.997)\n",
            "Parameters: {'n_estimators': 64, 'learning_rate': 0.22, 'base_score': 0.5}\n",
            "\n"
          ],
          "name": "stdout"
        }
      ]
    },
    {
      "metadata": {
        "id": "GcGrIlOpyzYg",
        "colab_type": "code",
        "colab": {
          "base_uri": "https://localhost:8080/",
          "height": 84
        },
        "outputId": "2a96374a-0826-4a10-9125-935352ca6dfe"
      },
      "cell_type": "code",
      "source": [
        "clf = svm.SVC(gamma='scale')\n",
        "clf"
      ],
      "execution_count": 39,
      "outputs": [
        {
          "output_type": "execute_result",
          "data": {
            "text/plain": [
              "SVC(C=1.0, cache_size=200, class_weight=None, coef0=0.0,\n",
              "  decision_function_shape='ovr', degree=3, gamma='scale', kernel='rbf',\n",
              "  max_iter=-1, probability=False, random_state=None, shrinking=True,\n",
              "  tol=0.001, verbose=False)"
            ]
          },
          "metadata": {
            "tags": []
          },
          "execution_count": 39
        }
      ]
    },
    {
      "metadata": {
        "id": "YzB1KRegO1_S",
        "colab_type": "code",
        "colab": {
          "base_uri": "https://localhost:8080/",
          "height": 1270
        },
        "outputId": "7b4e2fff-72ea-440f-ce6f-2ae2f2aa0e0e"
      },
      "cell_type": "code",
      "source": [
        "#Data\n",
        "X=x_array[\"1\"]\n",
        "Y=y_array[\"1\"]\n",
        "# build a classifier\n",
        "clf = svm.SVC(gamma='scale')\n",
        "\n",
        "param_dist = {\"base_score\":[0.5,0.6,0.7,0.8,0.9],\n",
        "             \"learning_rate\":[0.01,0.03,0.05,0.07,0.08,0.13,0.18,0.22,0.25,0.3,0.33,0.35,0.4,0.45,0.48,0.5],\n",
        "             \"n_estimators\":[32,64,128,156,200,250,300,350,400]\n",
        "             }\n",
        "random_search = RandomizedSearchCV(clf, param_distributions=param_dist,\n",
        "                                   n_iter=40,scoring=[\"f1\"],refit=False)\n",
        "\n",
        "random_search.fit(X,Y)"
      ],
      "execution_count": 8,
      "outputs": [
        {
          "output_type": "error",
          "ename": "ValueError",
          "evalue": "ignored",
          "traceback": [
            "\u001b[0;31m---------------------------------------------------------------------------\u001b[0m",
            "\u001b[0;31mValueError\u001b[0m                                Traceback (most recent call last)",
            "\u001b[0;32m<ipython-input-8-aac90aa65508>\u001b[0m in \u001b[0;36m<module>\u001b[0;34m()\u001b[0m\n\u001b[1;32m     30\u001b[0m \u001b[0;34m\u001b[0m\u001b[0m\n\u001b[1;32m     31\u001b[0m \u001b[0mstart\u001b[0m \u001b[0;34m=\u001b[0m \u001b[0mtime\u001b[0m\u001b[0;34m(\u001b[0m\u001b[0;34m)\u001b[0m\u001b[0;34m\u001b[0m\u001b[0m\n\u001b[0;32m---> 32\u001b[0;31m \u001b[0mrandom_search\u001b[0m\u001b[0;34m.\u001b[0m\u001b[0mfit\u001b[0m\u001b[0;34m(\u001b[0m\u001b[0mx_smote_df\u001b[0m\u001b[0;34m[\u001b[0m\u001b[0;34m\"1\"\u001b[0m\u001b[0;34m]\u001b[0m\u001b[0;34m,\u001b[0m \u001b[0my_smote_df\u001b[0m\u001b[0;34m[\u001b[0m\u001b[0;34m\"1\"\u001b[0m\u001b[0;34m]\u001b[0m\u001b[0;34m)\u001b[0m\u001b[0;34m\u001b[0m\u001b[0m\n\u001b[0m\u001b[1;32m     33\u001b[0m print(\"RandomizedSearchCV took %.2f seconds for %d candidates\"\n\u001b[1;32m     34\u001b[0m       \" parameter settings.\" % ((time() - start), n_iter_search))\n",
            "\u001b[0;32m/usr/local/lib/python3.6/dist-packages/sklearn/model_selection/_search.py\u001b[0m in \u001b[0;36mfit\u001b[0;34m(self, X, y, groups, **fit_params)\u001b[0m\n\u001b[1;32m    617\u001b[0m     \u001b[0;32mdef\u001b[0m \u001b[0mfit\u001b[0m\u001b[0;34m(\u001b[0m\u001b[0mself\u001b[0m\u001b[0;34m,\u001b[0m \u001b[0mX\u001b[0m\u001b[0;34m,\u001b[0m \u001b[0my\u001b[0m\u001b[0;34m=\u001b[0m\u001b[0;32mNone\u001b[0m\u001b[0;34m,\u001b[0m \u001b[0mgroups\u001b[0m\u001b[0;34m=\u001b[0m\u001b[0;32mNone\u001b[0m\u001b[0;34m,\u001b[0m \u001b[0;34m**\u001b[0m\u001b[0mfit_params\u001b[0m\u001b[0;34m)\u001b[0m\u001b[0;34m:\u001b[0m\u001b[0;34m\u001b[0m\u001b[0m\n\u001b[1;32m    618\u001b[0m         \"\"\"Run fit with all sets of parameters.\n\u001b[0;32m--> 619\u001b[0;31m \u001b[0;34m\u001b[0m\u001b[0m\n\u001b[0m\u001b[1;32m    620\u001b[0m         \u001b[0mParameters\u001b[0m\u001b[0;34m\u001b[0m\u001b[0m\n\u001b[1;32m    621\u001b[0m         \u001b[0;34m-\u001b[0m\u001b[0;34m-\u001b[0m\u001b[0;34m-\u001b[0m\u001b[0;34m-\u001b[0m\u001b[0;34m-\u001b[0m\u001b[0;34m-\u001b[0m\u001b[0;34m-\u001b[0m\u001b[0;34m-\u001b[0m\u001b[0;34m-\u001b[0m\u001b[0;34m-\u001b[0m\u001b[0;34m\u001b[0m\u001b[0m\n",
            "\u001b[0;32m/usr/local/lib/python3.6/dist-packages/sklearn/model_selection/_search.py\u001b[0m in \u001b[0;36m__iter__\u001b[0;34m(self)\u001b[0m\n\u001b[1;32m    264\u001b[0m             \u001b[0mn_iter\u001b[0m \u001b[0;34m=\u001b[0m \u001b[0mself\u001b[0m\u001b[0;34m.\u001b[0m\u001b[0mn_iter\u001b[0m\u001b[0;34m\u001b[0m\u001b[0m\n\u001b[1;32m    265\u001b[0m \u001b[0;34m\u001b[0m\u001b[0m\n\u001b[0;32m--> 266\u001b[0;31m             \u001b[0;32mif\u001b[0m \u001b[0mgrid_size\u001b[0m \u001b[0;34m<\u001b[0m \u001b[0mn_iter\u001b[0m\u001b[0;34m:\u001b[0m\u001b[0;34m\u001b[0m\u001b[0m\n\u001b[0m\u001b[1;32m    267\u001b[0m                 warnings.warn(\n\u001b[1;32m    268\u001b[0m                     \u001b[0;34m'The total space of parameters %d is smaller '\u001b[0m\u001b[0;34m\u001b[0m\u001b[0m\n",
            "\u001b[0;32m/usr/local/lib/python3.6/dist-packages/scipy/stats/_distn_infrastructure.py\u001b[0m in \u001b[0;36mrvs\u001b[0;34m(self, size, random_state)\u001b[0m\n\u001b[1;32m    468\u001b[0m         \u001b[0mkwds\u001b[0m \u001b[0;34m=\u001b[0m \u001b[0mself\u001b[0m\u001b[0;34m.\u001b[0m\u001b[0mkwds\u001b[0m\u001b[0;34m.\u001b[0m\u001b[0mcopy\u001b[0m\u001b[0;34m(\u001b[0m\u001b[0;34m)\u001b[0m\u001b[0;34m\u001b[0m\u001b[0m\n\u001b[1;32m    469\u001b[0m         \u001b[0mkwds\u001b[0m\u001b[0;34m.\u001b[0m\u001b[0mupdate\u001b[0m\u001b[0;34m(\u001b[0m\u001b[0;34m{\u001b[0m\u001b[0;34m'size'\u001b[0m\u001b[0;34m:\u001b[0m \u001b[0msize\u001b[0m\u001b[0;34m,\u001b[0m \u001b[0;34m'random_state'\u001b[0m\u001b[0;34m:\u001b[0m \u001b[0mrandom_state\u001b[0m\u001b[0;34m}\u001b[0m\u001b[0;34m)\u001b[0m\u001b[0;34m\u001b[0m\u001b[0m\n\u001b[0;32m--> 470\u001b[0;31m         \u001b[0;32mreturn\u001b[0m \u001b[0mself\u001b[0m\u001b[0;34m.\u001b[0m\u001b[0mdist\u001b[0m\u001b[0;34m.\u001b[0m\u001b[0mrvs\u001b[0m\u001b[0;34m(\u001b[0m\u001b[0;34m*\u001b[0m\u001b[0mself\u001b[0m\u001b[0;34m.\u001b[0m\u001b[0margs\u001b[0m\u001b[0;34m,\u001b[0m \u001b[0;34m**\u001b[0m\u001b[0mkwds\u001b[0m\u001b[0;34m)\u001b[0m\u001b[0;34m\u001b[0m\u001b[0m\n\u001b[0m\u001b[1;32m    471\u001b[0m \u001b[0;34m\u001b[0m\u001b[0m\n\u001b[1;32m    472\u001b[0m     \u001b[0;32mdef\u001b[0m \u001b[0msf\u001b[0m\u001b[0;34m(\u001b[0m\u001b[0mself\u001b[0m\u001b[0;34m,\u001b[0m \u001b[0mx\u001b[0m\u001b[0;34m)\u001b[0m\u001b[0;34m:\u001b[0m\u001b[0;34m\u001b[0m\u001b[0m\n",
            "\u001b[0;32m/usr/local/lib/python3.6/dist-packages/scipy/stats/_distn_infrastructure.py\u001b[0m in \u001b[0;36mrvs\u001b[0;34m(self, *args, **kwargs)\u001b[0m\n\u001b[1;32m   2808\u001b[0m         \"\"\"\n\u001b[1;32m   2809\u001b[0m         \u001b[0mkwargs\u001b[0m\u001b[0;34m[\u001b[0m\u001b[0;34m'discrete'\u001b[0m\u001b[0;34m]\u001b[0m \u001b[0;34m=\u001b[0m \u001b[0;32mTrue\u001b[0m\u001b[0;34m\u001b[0m\u001b[0m\n\u001b[0;32m-> 2810\u001b[0;31m         \u001b[0;32mreturn\u001b[0m \u001b[0msuper\u001b[0m\u001b[0;34m(\u001b[0m\u001b[0mrv_discrete\u001b[0m\u001b[0;34m,\u001b[0m \u001b[0mself\u001b[0m\u001b[0;34m)\u001b[0m\u001b[0;34m.\u001b[0m\u001b[0mrvs\u001b[0m\u001b[0;34m(\u001b[0m\u001b[0;34m*\u001b[0m\u001b[0margs\u001b[0m\u001b[0;34m,\u001b[0m \u001b[0;34m**\u001b[0m\u001b[0mkwargs\u001b[0m\u001b[0;34m)\u001b[0m\u001b[0;34m\u001b[0m\u001b[0m\n\u001b[0m\u001b[1;32m   2811\u001b[0m \u001b[0;34m\u001b[0m\u001b[0m\n\u001b[1;32m   2812\u001b[0m     \u001b[0;32mdef\u001b[0m \u001b[0mpmf\u001b[0m\u001b[0;34m(\u001b[0m\u001b[0mself\u001b[0m\u001b[0;34m,\u001b[0m \u001b[0mk\u001b[0m\u001b[0;34m,\u001b[0m \u001b[0;34m*\u001b[0m\u001b[0margs\u001b[0m\u001b[0;34m,\u001b[0m \u001b[0;34m**\u001b[0m\u001b[0mkwds\u001b[0m\u001b[0;34m)\u001b[0m\u001b[0;34m:\u001b[0m\u001b[0;34m\u001b[0m\u001b[0m\n",
            "\u001b[0;32m/usr/local/lib/python3.6/dist-packages/scipy/stats/_distn_infrastructure.py\u001b[0m in \u001b[0;36mrvs\u001b[0;34m(self, *args, **kwds)\u001b[0m\n\u001b[1;32m    952\u001b[0m         \u001b[0;31m# by _rvs().\u001b[0m\u001b[0;34m\u001b[0m\u001b[0;34m\u001b[0m\u001b[0m\n\u001b[1;32m    953\u001b[0m         \u001b[0mself\u001b[0m\u001b[0;34m.\u001b[0m\u001b[0m_size\u001b[0m \u001b[0;34m=\u001b[0m \u001b[0msize\u001b[0m\u001b[0;34m\u001b[0m\u001b[0m\n\u001b[0;32m--> 954\u001b[0;31m         \u001b[0mvals\u001b[0m \u001b[0;34m=\u001b[0m \u001b[0mself\u001b[0m\u001b[0;34m.\u001b[0m\u001b[0m_rvs\u001b[0m\u001b[0;34m(\u001b[0m\u001b[0;34m*\u001b[0m\u001b[0margs\u001b[0m\u001b[0;34m)\u001b[0m\u001b[0;34m\u001b[0m\u001b[0m\n\u001b[0m\u001b[1;32m    955\u001b[0m \u001b[0;34m\u001b[0m\u001b[0m\n\u001b[1;32m    956\u001b[0m         \u001b[0mvals\u001b[0m \u001b[0;34m=\u001b[0m \u001b[0mvals\u001b[0m \u001b[0;34m*\u001b[0m \u001b[0mscale\u001b[0m \u001b[0;34m+\u001b[0m \u001b[0mloc\u001b[0m\u001b[0;34m\u001b[0m\u001b[0m\n",
            "\u001b[0;32m/usr/local/lib/python3.6/dist-packages/scipy/stats/_discrete_distns.py\u001b[0m in \u001b[0;36m_rvs\u001b[0;34m(self, low, high)\u001b[0m\n\u001b[1;32m    659\u001b[0m             \u001b[0mhigh\u001b[0m \u001b[0;34m=\u001b[0m \u001b[0mbroadcast_to\u001b[0m\u001b[0;34m(\u001b[0m\u001b[0mhigh\u001b[0m\u001b[0;34m,\u001b[0m \u001b[0mself\u001b[0m\u001b[0;34m.\u001b[0m\u001b[0m_size\u001b[0m\u001b[0;34m)\u001b[0m\u001b[0;34m\u001b[0m\u001b[0m\n\u001b[1;32m    660\u001b[0m         \u001b[0mrandint\u001b[0m \u001b[0;34m=\u001b[0m \u001b[0mnp\u001b[0m\u001b[0;34m.\u001b[0m\u001b[0mvectorize\u001b[0m\u001b[0;34m(\u001b[0m\u001b[0mself\u001b[0m\u001b[0;34m.\u001b[0m\u001b[0m_random_state\u001b[0m\u001b[0;34m.\u001b[0m\u001b[0mrandint\u001b[0m\u001b[0;34m,\u001b[0m \u001b[0motypes\u001b[0m\u001b[0;34m=\u001b[0m\u001b[0;34m[\u001b[0m\u001b[0mnp\u001b[0m\u001b[0;34m.\u001b[0m\u001b[0mint_\u001b[0m\u001b[0;34m]\u001b[0m\u001b[0;34m)\u001b[0m\u001b[0;34m\u001b[0m\u001b[0m\n\u001b[0;32m--> 661\u001b[0;31m         \u001b[0;32mreturn\u001b[0m \u001b[0mrandint\u001b[0m\u001b[0;34m(\u001b[0m\u001b[0mlow\u001b[0m\u001b[0;34m,\u001b[0m \u001b[0mhigh\u001b[0m\u001b[0;34m)\u001b[0m\u001b[0;34m\u001b[0m\u001b[0m\n\u001b[0m\u001b[1;32m    662\u001b[0m \u001b[0;34m\u001b[0m\u001b[0m\n\u001b[1;32m    663\u001b[0m     \u001b[0;32mdef\u001b[0m \u001b[0m_entropy\u001b[0m\u001b[0;34m(\u001b[0m\u001b[0mself\u001b[0m\u001b[0;34m,\u001b[0m \u001b[0mlow\u001b[0m\u001b[0;34m,\u001b[0m \u001b[0mhigh\u001b[0m\u001b[0;34m)\u001b[0m\u001b[0;34m:\u001b[0m\u001b[0;34m\u001b[0m\u001b[0m\n",
            "\u001b[0;32m/usr/local/lib/python3.6/dist-packages/numpy/lib/function_base.py\u001b[0m in \u001b[0;36m__call__\u001b[0;34m(self, *args, **kwargs)\u001b[0m\n\u001b[1;32m   2753\u001b[0m             \u001b[0mvargs\u001b[0m\u001b[0;34m.\u001b[0m\u001b[0mextend\u001b[0m\u001b[0;34m(\u001b[0m\u001b[0;34m[\u001b[0m\u001b[0mkwargs\u001b[0m\u001b[0;34m[\u001b[0m\u001b[0m_n\u001b[0m\u001b[0;34m]\u001b[0m \u001b[0;32mfor\u001b[0m \u001b[0m_n\u001b[0m \u001b[0;32min\u001b[0m \u001b[0mnames\u001b[0m\u001b[0;34m]\u001b[0m\u001b[0;34m)\u001b[0m\u001b[0;34m\u001b[0m\u001b[0m\n\u001b[1;32m   2754\u001b[0m \u001b[0;34m\u001b[0m\u001b[0m\n\u001b[0;32m-> 2755\u001b[0;31m         \u001b[0;32mreturn\u001b[0m \u001b[0mself\u001b[0m\u001b[0;34m.\u001b[0m\u001b[0m_vectorize_call\u001b[0m\u001b[0;34m(\u001b[0m\u001b[0mfunc\u001b[0m\u001b[0;34m=\u001b[0m\u001b[0mfunc\u001b[0m\u001b[0;34m,\u001b[0m \u001b[0margs\u001b[0m\u001b[0;34m=\u001b[0m\u001b[0mvargs\u001b[0m\u001b[0;34m)\u001b[0m\u001b[0;34m\u001b[0m\u001b[0m\n\u001b[0m\u001b[1;32m   2756\u001b[0m \u001b[0;34m\u001b[0m\u001b[0m\n\u001b[1;32m   2757\u001b[0m     \u001b[0;32mdef\u001b[0m \u001b[0m_get_ufunc_and_otypes\u001b[0m\u001b[0;34m(\u001b[0m\u001b[0mself\u001b[0m\u001b[0;34m,\u001b[0m \u001b[0mfunc\u001b[0m\u001b[0;34m,\u001b[0m \u001b[0margs\u001b[0m\u001b[0;34m)\u001b[0m\u001b[0;34m:\u001b[0m\u001b[0;34m\u001b[0m\u001b[0m\n",
            "\u001b[0;32m/usr/local/lib/python3.6/dist-packages/numpy/lib/function_base.py\u001b[0m in \u001b[0;36m_vectorize_call\u001b[0;34m(self, func, args)\u001b[0m\n\u001b[1;32m   2829\u001b[0m                       for a in args]\n\u001b[1;32m   2830\u001b[0m \u001b[0;34m\u001b[0m\u001b[0m\n\u001b[0;32m-> 2831\u001b[0;31m             \u001b[0moutputs\u001b[0m \u001b[0;34m=\u001b[0m \u001b[0mufunc\u001b[0m\u001b[0;34m(\u001b[0m\u001b[0;34m*\u001b[0m\u001b[0minputs\u001b[0m\u001b[0;34m)\u001b[0m\u001b[0;34m\u001b[0m\u001b[0m\n\u001b[0m\u001b[1;32m   2832\u001b[0m \u001b[0;34m\u001b[0m\u001b[0m\n\u001b[1;32m   2833\u001b[0m             \u001b[0;32mif\u001b[0m \u001b[0mufunc\u001b[0m\u001b[0;34m.\u001b[0m\u001b[0mnout\u001b[0m \u001b[0;34m==\u001b[0m \u001b[0;36m1\u001b[0m\u001b[0;34m:\u001b[0m\u001b[0;34m\u001b[0m\u001b[0m\n",
            "\u001b[0;32mmtrand.pyx\u001b[0m in \u001b[0;36mmtrand.RandomState.randint\u001b[0;34m()\u001b[0m\n",
            "\u001b[0;31mValueError\u001b[0m: low >= high"
          ]
        }
      ]
    },
    {
      "metadata": {
        "id": "iSbSGbLjjP_p",
        "colab_type": "code",
        "colab": {}
      },
      "cell_type": "code",
      "source": [
        ""
      ],
      "execution_count": 0,
      "outputs": []
    }
  ]
}