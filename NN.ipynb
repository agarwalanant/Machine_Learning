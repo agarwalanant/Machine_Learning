{
  "nbformat": 4,
  "nbformat_minor": 0,
  "metadata": {
    "colab": {
      "name": "NN.ipynb",
      "version": "0.3.2",
      "provenance": [],
      "include_colab_link": true
    },
    "kernelspec": {
      "name": "python3",
      "display_name": "Python 3"
    }
  },
  "cells": [
    {
      "cell_type": "markdown",
      "metadata": {
        "id": "view-in-github",
        "colab_type": "text"
      },
      "source": [
        "<a href=\"https://colab.research.google.com/github/agarwalanant/Machine_Learning/blob/master/NN.ipynb\" target=\"_parent\"><img src=\"https://colab.research.google.com/assets/colab-badge.svg\" alt=\"Open In Colab\"/></a>"
      ]
    },
    {
      "metadata": {
        "id": "HxxHklF1Z2j6",
        "colab_type": "code",
        "colab": {
          "base_uri": "https://localhost:8080/",
          "height": 489
        },
        "outputId": "d597753c-6dff-4ff5-8f8f-e3c010b1fb94"
      },
      "cell_type": "code",
      "source": [
        "!wget http://www.superdatascience.com/wp-content/uploads/2017/02/Artificial-Neural-Networks.zip\n",
        "!unzip Artificial-Neural-Networks.zip -d gdrive/My\\ \\Drive/MachineLearning"
      ],
      "execution_count": 1,
      "outputs": [
        {
          "output_type": "stream",
          "text": [
            "--2018-10-31 04:36:05--  http://www.superdatascience.com/wp-content/uploads/2017/02/Artificial-Neural-Networks.zip\n",
            "Resolving www.superdatascience.com (www.superdatascience.com)... 104.27.172.21, 104.27.173.21, 2606:4700:30::681b:ad15, ...\n",
            "Connecting to www.superdatascience.com (www.superdatascience.com)|104.27.172.21|:80... connected.\n",
            "HTTP request sent, awaiting response... 301 Moved Permanently\n",
            "Location: https://www.superdatascience.com/wp-content/uploads/2017/02/Artificial-Neural-Networks.zip [following]\n",
            "--2018-10-31 04:36:05--  https://www.superdatascience.com/wp-content/uploads/2017/02/Artificial-Neural-Networks.zip\n",
            "Connecting to www.superdatascience.com (www.superdatascience.com)|104.27.172.21|:443... connected.\n",
            "HTTP request sent, awaiting response... 200 OK\n",
            "Length: 1520728 (1.5M) [application/zip]\n",
            "Saving to: ‘Artificial-Neural-Networks.zip’\n",
            "\n",
            "\r          Artificia   0%[                    ]       0  --.-KB/s               \rArtificial-Neural-N 100%[===================>]   1.45M  9.22MB/s    in 0.2s    \n",
            "\n",
            "2018-10-31 04:36:05 (9.22 MB/s) - ‘Artificial-Neural-Networks.zip’ saved [1520728/1520728]\n",
            "\n",
            "Archive:  Artificial-Neural-Networks.zip\n",
            "   creating: gdrive/My Drive/MachineLearning/Artificial_Neural_Networks/\n",
            "  inflating: gdrive/My Drive/MachineLearning/Artificial_Neural_Networks/ann.py  \n",
            "   creating: gdrive/My Drive/MachineLearning/__MACOSX/Artificial_Neural_Networks/\n",
            "  inflating: gdrive/My Drive/MachineLearning/__MACOSX/Artificial_Neural_Networks/._ann.py  \n",
            "  inflating: gdrive/My Drive/MachineLearning/Artificial_Neural_Networks/ann.R  \n",
            "  inflating: gdrive/My Drive/MachineLearning/__MACOSX/Artificial_Neural_Networks/._ann.R  \n",
            "  inflating: gdrive/My Drive/MachineLearning/Artificial_Neural_Networks/Churn_Modelling.csv  \n",
            "  inflating: gdrive/My Drive/MachineLearning/__MACOSX/Artificial_Neural_Networks/._Churn_Modelling.csv  \n",
            "  inflating: gdrive/My Drive/MachineLearning/Artificial_Neural_Networks/Stochastic_Gradient_Descent.png  \n",
            "  inflating: gdrive/My Drive/MachineLearning/__MACOSX/Artificial_Neural_Networks/._Stochastic_Gradient_Descent.png  \n"
          ],
          "name": "stdout"
        }
      ]
    },
    {
      "metadata": {
        "id": "FqR4N6jvaBOT",
        "colab_type": "code",
        "colab": {}
      },
      "cell_type": "code",
      "source": [
        "\n",
        "\n",
        "import numpy as np\n",
        "import pandas as pd\n",
        "import matplotlib.pyplot as plt\n",
        "\n"
      ],
      "execution_count": 0,
      "outputs": []
    },
    {
      "metadata": {
        "id": "16zQv0YUaEFb",
        "colab_type": "code",
        "colab": {}
      },
      "cell_type": "code",
      "source": [
        "dataset = pd.read_csv(\"gdrive/My Drive/MachineLearning/Artificial_Neural_Networks/Churn_Modelling.csv\")"
      ],
      "execution_count": 0,
      "outputs": []
    },
    {
      "metadata": {
        "id": "ffRRufzyaKSY",
        "colab_type": "code",
        "colab": {}
      },
      "cell_type": "code",
      "source": [
        "\n",
        "\n",
        "#Converting dataframe to Arrays\n",
        "X=dataset.iloc[:,3:13].values\n",
        "Y=dataset.iloc[:,13].values\n",
        "\n",
        "from sklearn.preprocessing import LabelEncoder, OneHotEncoder\n",
        "labelencoder_X1 = LabelEncoder()\n",
        "X[:,1]=labelencoder_X1.fit_transform(X[:,1])\n",
        "labelencoder_X2 = LabelEncoder()\n",
        "X[:,2]=labelencoder_X1.fit_transform(X[:,2])\n",
        "labelencoder_Y = LabelEncoder()\n",
        "onehotencoder = OneHotEncoder(categorical_features=[1])\n",
        "X= onehotencoder.fit_transform(X).toarray()\n",
        "X = X[:,1:]\n",
        "\n",
        "from sklearn.model_selection import train_test_split\n",
        "X_train,X_test,Y_train,Y_test = train_test_split(X,Y,test_size=0.2,random_state = 42)"
      ],
      "execution_count": 0,
      "outputs": []
    },
    {
      "metadata": {
        "id": "Cq5ghGtwbcs8",
        "colab_type": "code",
        "colab": {
          "base_uri": "https://localhost:8080/",
          "height": 35
        },
        "outputId": "bac47d15-b43a-474e-d8a0-72a9862155b2"
      },
      "cell_type": "code",
      "source": [
        "import keras\n",
        "from keras.models import Sequential\n",
        "from keras.layers import Dense\n"
      ],
      "execution_count": 5,
      "outputs": [
        {
          "output_type": "stream",
          "text": [
            "Using TensorFlow backend.\n"
          ],
          "name": "stderr"
        }
      ]
    },
    {
      "metadata": {
        "id": "ydS5JO0lb36x",
        "colab_type": "code",
        "colab": {}
      },
      "cell_type": "code",
      "source": [
        "classifier = Sequential()\n",
        "classifier.add(Dense(units =6, kernel_initializer= 'uniform',activation = 'relu',input_dim=11) )\n",
        "classifier.add(Dense(units =6, kernel_initializer= 'uniform',activation = 'relu') )\n",
        "classifier.add(Dense(units =1, kernel_initializer= 'uniform',activation = 'sigmoid',input_dim=11) )\n",
        "classifier.compile(optimizer ='adam',loss='binary_crossentropy',metrics=['accuracy'])"
      ],
      "execution_count": 0,
      "outputs": []
    },
    {
      "metadata": {
        "id": "BTgg5IK5c5ki",
        "colab_type": "code",
        "colab": {
          "base_uri": "https://localhost:8080/",
          "height": 417
        },
        "outputId": "2dc07df5-29f4-4c85-cc6b-1489a0f1a52b"
      },
      "cell_type": "code",
      "source": [
        "classifier.fit(X_train,Y_train,batch_size=32, epochs=10, verbose=1,  validation_split=0.3)"
      ],
      "execution_count": 28,
      "outputs": [
        {
          "output_type": "stream",
          "text": [
            "Train on 5600 samples, validate on 2400 samples\n",
            "Epoch 1/10\n",
            "5600/5600 [==============================] - 1s 99us/step - loss: 0.5645 - acc: 0.7857 - val_loss: 0.5766 - val_acc: 0.7887\n",
            "Epoch 2/10\n",
            "5600/5600 [==============================] - 0s 58us/step - loss: 0.5423 - acc: 0.7936 - val_loss: 0.5299 - val_acc: 0.7887\n",
            "Epoch 3/10\n",
            "5600/5600 [==============================] - 0s 58us/step - loss: 0.5291 - acc: 0.7970 - val_loss: 0.5369 - val_acc: 0.7887\n",
            "Epoch 4/10\n",
            "5600/5600 [==============================] - 0s 58us/step - loss: 0.5283 - acc: 0.7957 - val_loss: 0.5249 - val_acc: 0.7887\n",
            "Epoch 5/10\n",
            "5600/5600 [==============================] - 0s 57us/step - loss: 0.5228 - acc: 0.7937 - val_loss: 0.5304 - val_acc: 0.7887\n",
            "Epoch 6/10\n",
            "5600/5600 [==============================] - 0s 56us/step - loss: 0.5202 - acc: 0.7970 - val_loss: 0.5133 - val_acc: 0.7887\n",
            "Epoch 7/10\n",
            "5600/5600 [==============================] - 0s 58us/step - loss: 0.5139 - acc: 0.7970 - val_loss: 0.5153 - val_acc: 0.7887\n",
            "Epoch 8/10\n",
            "5600/5600 [==============================] - 0s 58us/step - loss: 0.5107 - acc: 0.7970 - val_loss: 0.5151 - val_acc: 0.7887\n",
            "Epoch 9/10\n",
            "5600/5600 [==============================] - 0s 57us/step - loss: 0.5118 - acc: 0.7970 - val_loss: 0.5149 - val_acc: 0.7887\n",
            "Epoch 10/10\n",
            "5600/5600 [==============================] - 0s 57us/step - loss: 0.5080 - acc: 0.7970 - val_loss: 0.5152 - val_acc: 0.7887\n"
          ],
          "name": "stdout"
        },
        {
          "output_type": "execute_result",
          "data": {
            "text/plain": [
              "<keras.callbacks.History at 0x7f931a155cf8>"
            ]
          },
          "metadata": {
            "tags": []
          },
          "execution_count": 28
        }
      ]
    },
    {
      "metadata": {
        "id": "vFfjgdQ0fiCk",
        "colab_type": "code",
        "colab": {
          "base_uri": "https://localhost:8080/",
          "height": 144
        },
        "outputId": "341dcb04-6439-497b-cc30-0ea970e03052"
      },
      "cell_type": "code",
      "source": [
        "y_pred= classifier.predict(X_test)\n",
        "y_pred =(y_pred >0.5)\n",
        "y_pred"
      ],
      "execution_count": 29,
      "outputs": [
        {
          "output_type": "execute_result",
          "data": {
            "text/plain": [
              "array([[False],\n",
              "       [False],\n",
              "       [False],\n",
              "       ...,\n",
              "       [False],\n",
              "       [False],\n",
              "       [False]])"
            ]
          },
          "metadata": {
            "tags": []
          },
          "execution_count": 29
        }
      ]
    },
    {
      "metadata": {
        "id": "FdD3kVhlf5M7",
        "colab_type": "code",
        "colab": {
          "base_uri": "https://localhost:8080/",
          "height": 53
        },
        "outputId": "5f41b685-5e94-495e-ce87-7bdc7d68d5d9"
      },
      "cell_type": "code",
      "source": [
        "from sklearn.metrics import confusion_matrix\n",
        "con = confusion_matrix(Y_test,y_pred)\n",
        "con"
      ],
      "execution_count": 30,
      "outputs": [
        {
          "output_type": "execute_result",
          "data": {
            "text/plain": [
              "array([[1607,    0],\n",
              "       [ 393,    0]])"
            ]
          },
          "metadata": {
            "tags": []
          },
          "execution_count": 30
        }
      ]
    },
    {
      "metadata": {
        "id": "l3gvCIb7gu4E",
        "colab_type": "code",
        "colab": {}
      },
      "cell_type": "code",
      "source": [
        ""
      ],
      "execution_count": 0,
      "outputs": []
    }
  ]
}