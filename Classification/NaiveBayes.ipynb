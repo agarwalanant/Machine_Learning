{
  "nbformat": 4,
  "nbformat_minor": 0,
  "metadata": {
    "colab": {
      "name": "NaiveBayes.ipynb",
      "version": "0.3.2",
      "provenance": [],
      "include_colab_link": true
    },
    "kernelspec": {
      "name": "python3",
      "display_name": "Python 3"
    }
  },
  "cells": [
    {
      "cell_type": "markdown",
      "metadata": {
        "id": "view-in-github",
        "colab_type": "text"
      },
      "source": [
        "<a href=\"https://colab.research.google.com/github/agarwalanant/Machine_Learning/blob/master/Classification/NaiveBayes.ipynb\" target=\"_parent\"><img src=\"https://colab.research.google.com/assets/colab-badge.svg\" alt=\"Open In Colab\"/></a>"
      ]
    },
    {
      "metadata": {
        "id": "IWIuyIzIvbfg",
        "colab_type": "code",
        "colab": {}
      },
      "cell_type": "code",
      "source": [
        ""
      ],
      "execution_count": 0,
      "outputs": []
    },
    {
      "metadata": {
        "id": "mt2kIbff_3lG",
        "colab_type": "code",
        "colab": {}
      },
      "cell_type": "code",
      "source": [
        "from google.colab import drive\n",
        "drive.mount('/content/gdrive')"
      ],
      "execution_count": 0,
      "outputs": []
    },
    {
      "metadata": {
        "id": "pKiwnuAiDJvA",
        "colab_type": "code",
        "outputId": "bb56e106-04e3-4a57-d942-ffe4b123cf88",
        "colab": {
          "base_uri": "https://localhost:8080/",
          "height": 443
        }
      },
      "cell_type": "code",
      "source": [
        "!wget http://www.superdatascience.com/wp-content/uploads/2017/02/Logistic_Regression.zip\n",
        "!unzip Logistic_Regression.zip -d gdrive/My\\ \\Drive/MachineLearning"
      ],
      "execution_count": 0,
      "outputs": [
        {
          "output_type": "stream",
          "text": [
            "--2018-10-29 13:40:07--  http://www.superdatascience.com/wp-content/uploads/2017/02/Logistic_Regression.zip\n",
            "Resolving www.superdatascience.com (www.superdatascience.com)... 104.27.173.21, 104.27.172.21, 2606:4700:30::681b:ac15, ...\n",
            "Connecting to www.superdatascience.com (www.superdatascience.com)|104.27.173.21|:80... connected.\n",
            "HTTP request sent, awaiting response... 301 Moved Permanently\n",
            "Location: https://www.superdatascience.com/wp-content/uploads/2017/02/Logistic_Regression.zip [following]\n",
            "--2018-10-29 13:40:08--  https://www.superdatascience.com/wp-content/uploads/2017/02/Logistic_Regression.zip\n",
            "Connecting to www.superdatascience.com (www.superdatascience.com)|104.27.173.21|:443... connected.\n",
            "HTTP request sent, awaiting response... 200 OK\n",
            "Length: 6312 (6.2K) [application/zip]\n",
            "Saving to: ‘Logistic_Regression.zip’\n",
            "\n",
            "\rLogistic_Regression   0%[                    ]       0  --.-KB/s               \rLogistic_Regression 100%[===================>]   6.16K  --.-KB/s    in 0s      \n",
            "\n",
            "2018-10-29 13:40:08 (36.7 MB/s) - ‘Logistic_Regression.zip’ saved [6312/6312]\n",
            "\n",
            "Archive:  Logistic_Regression.zip\n",
            "   creating: gdrive/My Drive/MachineLearning/Logistic_Regression/\n",
            "  inflating: gdrive/My Drive/MachineLearning/Logistic_Regression/logistic_regression.py  \n",
            "  inflating: gdrive/My Drive/MachineLearning/Logistic_Regression/logistic_regression.R  \n",
            "  inflating: gdrive/My Drive/MachineLearning/Logistic_Regression/Social_Network_Ads.csv  \n",
            "   creating: gdrive/My Drive/MachineLearning/__MACOSX/Logistic_Regression/\n",
            "  inflating: gdrive/My Drive/MachineLearning/__MACOSX/Logistic_Regression/._Social_Network_Ads.csv  \n"
          ],
          "name": "stdout"
        }
      ]
    },
    {
      "metadata": {
        "id": "TfeP0OyQtYIi",
        "colab_type": "code",
        "colab": {}
      },
      "cell_type": "code",
      "source": [
        "import numpy as np\n",
        "import pandas as pd\n",
        "import matplotlib.pyplot as plt"
      ],
      "execution_count": 0,
      "outputs": []
    },
    {
      "metadata": {
        "id": "FWjU8TaGu3TI",
        "colab_type": "code",
        "outputId": "83560c7e-f86a-4013-de6e-9613cdd3cbc3",
        "colab": {
          "base_uri": "https://localhost:8080/",
          "height": 206
        }
      },
      "cell_type": "code",
      "source": [
        "dataset = pd.read_csv(\"gdrive/My Drive/MachineLearning/Logistic_Regression/Social_Network_Ads.csv\")\n",
        "dataset.drop([\"User ID\"],inplace=True,axis =1)\n",
        "dataset.head()"
      ],
      "execution_count": 0,
      "outputs": [
        {
          "output_type": "execute_result",
          "data": {
            "text/html": [
              "<div>\n",
              "<style scoped>\n",
              "    .dataframe tbody tr th:only-of-type {\n",
              "        vertical-align: middle;\n",
              "    }\n",
              "\n",
              "    .dataframe tbody tr th {\n",
              "        vertical-align: top;\n",
              "    }\n",
              "\n",
              "    .dataframe thead th {\n",
              "        text-align: right;\n",
              "    }\n",
              "</style>\n",
              "<table border=\"1\" class=\"dataframe\">\n",
              "  <thead>\n",
              "    <tr style=\"text-align: right;\">\n",
              "      <th></th>\n",
              "      <th>Gender</th>\n",
              "      <th>Age</th>\n",
              "      <th>EstimatedSalary</th>\n",
              "      <th>Purchased</th>\n",
              "    </tr>\n",
              "  </thead>\n",
              "  <tbody>\n",
              "    <tr>\n",
              "      <th>0</th>\n",
              "      <td>Male</td>\n",
              "      <td>19</td>\n",
              "      <td>19000</td>\n",
              "      <td>0</td>\n",
              "    </tr>\n",
              "    <tr>\n",
              "      <th>1</th>\n",
              "      <td>Male</td>\n",
              "      <td>35</td>\n",
              "      <td>20000</td>\n",
              "      <td>0</td>\n",
              "    </tr>\n",
              "    <tr>\n",
              "      <th>2</th>\n",
              "      <td>Female</td>\n",
              "      <td>26</td>\n",
              "      <td>43000</td>\n",
              "      <td>0</td>\n",
              "    </tr>\n",
              "    <tr>\n",
              "      <th>3</th>\n",
              "      <td>Female</td>\n",
              "      <td>27</td>\n",
              "      <td>57000</td>\n",
              "      <td>0</td>\n",
              "    </tr>\n",
              "    <tr>\n",
              "      <th>4</th>\n",
              "      <td>Male</td>\n",
              "      <td>19</td>\n",
              "      <td>76000</td>\n",
              "      <td>0</td>\n",
              "    </tr>\n",
              "  </tbody>\n",
              "</table>\n",
              "</div>"
            ],
            "text/plain": [
              "   Gender  Age  EstimatedSalary  Purchased\n",
              "0    Male   19            19000          0\n",
              "1    Male   35            20000          0\n",
              "2  Female   26            43000          0\n",
              "3  Female   27            57000          0\n",
              "4    Male   19            76000          0"
            ]
          },
          "metadata": {
            "tags": []
          },
          "execution_count": 16
        }
      ]
    },
    {
      "metadata": {
        "id": "RY6l6wgwvX8I",
        "colab_type": "code",
        "colab": {}
      },
      "cell_type": "code",
      "source": [
        "#Converting dataframe to Arrays\n",
        "X=dataset.iloc[:,:-1].values\n",
        "Y=dataset.iloc[:,3].values"
      ],
      "execution_count": 0,
      "outputs": []
    },
    {
      "metadata": {
        "id": "cPmGDwl-vq6O",
        "colab_type": "code",
        "colab": {}
      },
      "cell_type": "code",
      "source": [
        "#Imputing the missing values\n",
        "from sklearn.preprocessing import Imputer\n",
        "imputer = Imputer(missing_values='NaN',strategy= 'mean',axis=0)\n",
        "imputer =imputer.fit(X[:,0:2])\n",
        "X[:,0:2]=imputer.transform(X[:,0:2])"
      ],
      "execution_count": 0,
      "outputs": []
    },
    {
      "metadata": {
        "id": "94Iq8ddwxNc3",
        "colab_type": "code",
        "colab": {}
      },
      "cell_type": "code",
      "source": [
        "#Converting categorical data to label-encoder\n",
        "from sklearn.preprocessing import LabelEncoder, OneHotEncoder\n",
        "labelencoder_X = LabelEncoder()\n",
        "X[:,0]=labelencoder_X.fit_transform(X[:,0])\n",
        "labelencoder_Y = LabelEncoder()\n",
        "Y=labelencoder_Y.fit_transform(Y)"
      ],
      "execution_count": 0,
      "outputs": []
    },
    {
      "metadata": {
        "id": "97UtLDI58r28",
        "colab_type": "code",
        "colab": {}
      },
      "cell_type": "code",
      "source": [
        "#Converting LabelEncoder to ONe hot Encoder\n",
        "onehotencoder = OneHotEncoder(categorical_features=[0])\n",
        "X= onehotencoder.fit_transform(X).toarray()\n",
        "\n"
      ],
      "execution_count": 0,
      "outputs": []
    },
    {
      "metadata": {
        "id": "YLWUcWML-Z7s",
        "colab_type": "code",
        "colab": {}
      },
      "cell_type": "code",
      "source": [
        "#Splittig Data into train and test\n",
        "from sklearn.model_selection import train_test_split\n",
        "X_train,X_test,Y_train,Y_test = train_test_split(X,Y,test_size=0.2,random_state = 42)"
      ],
      "execution_count": 0,
      "outputs": []
    },
    {
      "metadata": {
        "id": "iQHU7ISWezke",
        "colab_type": "code",
        "colab": {}
      },
      "cell_type": "code",
      "source": [
        "#Feature Scaling \n",
        "from sklearn.preprocessing import StandardScaler\n",
        "sc_X = StandardScaler()\n",
        "X = sc_X.fit_transform(X)\n"
      ],
      "execution_count": 0,
      "outputs": []
    },
    {
      "metadata": {
        "id": "u2X01THIFNdj",
        "colab_type": "code",
        "colab": {}
      },
      "cell_type": "code",
      "source": [
        "from sklearn.naive_bayes import GaussianNB"
      ],
      "execution_count": 0,
      "outputs": []
    },
    {
      "metadata": {
        "id": "2km0RYj-FetS",
        "colab_type": "code",
        "colab": {}
      },
      "cell_type": "code",
      "source": [
        "classifier=GaussianNB()\n",
        "classifier.fit(X_train,Y_train)\n",
        "y_pred=classifier.predict(X_test)"
      ],
      "execution_count": 0,
      "outputs": []
    },
    {
      "metadata": {
        "id": "1h399_B5FxoQ",
        "colab_type": "code",
        "colab": {}
      },
      "cell_type": "code",
      "source": [
        "from sklearn.metrics import confusion_matrix\n",
        "cm=confusion_matrix(Y_test,y_pred)"
      ],
      "execution_count": 0,
      "outputs": []
    }
  ]
}