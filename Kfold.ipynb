{
  "nbformat": 4,
  "nbformat_minor": 0,
  "metadata": {
    "colab": {
      "name": "Kfold.ipynb",
      "version": "0.3.2",
      "provenance": [],
      "include_colab_link": true
    },
    "kernelspec": {
      "name": "python3",
      "display_name": "Python 3"
    }
  },
  "cells": [
    {
      "cell_type": "markdown",
      "metadata": {
        "id": "view-in-github",
        "colab_type": "text"
      },
      "source": [
        "<a href=\"https://colab.research.google.com/github/agarwalanant/Machine_Learning/blob/master/Kfold.ipynb\" target=\"_parent\"><img src=\"https://colab.research.google.com/assets/colab-badge.svg\" alt=\"Open In Colab\"/></a>"
      ]
    },
    {
      "metadata": {
        "id": "qmVCK3_Yu_rT",
        "colab_type": "code",
        "outputId": "7b6bea39-fbb4-4ecc-ab59-c50bdc3690eb",
        "colab": {
          "base_uri": "https://localhost:8080/",
          "height": 544
        }
      },
      "cell_type": "code",
      "source": [
        "!wget http://www.superdatascience.com/wp-content/uploads/2017/02/Model-Selection.zip\n",
        "!unzip Model-Selection.zip -d gdrive/My\\ \\Drive/MachineLearning"
      ],
      "execution_count": 1,
      "outputs": [
        {
          "output_type": "stream",
          "text": [
            "--2018-10-31 11:01:02--  http://www.superdatascience.com/wp-content/uploads/2017/02/Model-Selection.zip\n",
            "Resolving www.superdatascience.com (www.superdatascience.com)... 104.27.172.21, 104.27.173.21, 2606:4700:30::681b:ac15, ...\n",
            "Connecting to www.superdatascience.com (www.superdatascience.com)|104.27.172.21|:80... connected.\n",
            "HTTP request sent, awaiting response... 301 Moved Permanently\n",
            "Location: https://www.superdatascience.com/wp-content/uploads/2017/02/Model-Selection.zip [following]\n",
            "--2018-10-31 11:01:02--  https://www.superdatascience.com/wp-content/uploads/2017/02/Model-Selection.zip\n",
            "Connecting to www.superdatascience.com (www.superdatascience.com)|104.27.172.21|:443... connected.\n",
            "HTTP request sent, awaiting response... 200 OK\n",
            "Length: 10573 (10K) [application/zip]\n",
            "Saving to: ‘Model-Selection.zip’\n",
            "\n",
            "\rModel-Selection.zip   0%[                    ]       0  --.-KB/s               \rModel-Selection.zip 100%[===================>]  10.33K  --.-KB/s    in 0s      \n",
            "\n",
            "2018-10-31 11:01:03 (48.3 MB/s) - ‘Model-Selection.zip’ saved [10573/10573]\n",
            "\n",
            "Archive:  Model-Selection.zip\n",
            "   creating: gdrive/My Drive/MachineLearning/Model_Selection/\n",
            "  inflating: gdrive/My Drive/MachineLearning/Model_Selection/grid_search.py  \n",
            "   creating: gdrive/My Drive/MachineLearning/__MACOSX/Model_Selection/\n",
            "  inflating: gdrive/My Drive/MachineLearning/__MACOSX/Model_Selection/._grid_search.py  \n",
            "  inflating: gdrive/My Drive/MachineLearning/Model_Selection/grid_search.R  \n",
            "  inflating: gdrive/My Drive/MachineLearning/__MACOSX/Model_Selection/._grid_search.R  \n",
            "  inflating: gdrive/My Drive/MachineLearning/Model_Selection/k_fold_cross_validation.py  \n",
            "  inflating: gdrive/My Drive/MachineLearning/__MACOSX/Model_Selection/._k_fold_cross_validation.py  \n",
            "  inflating: gdrive/My Drive/MachineLearning/Model_Selection/k_fold_cross_validation.R  \n",
            "  inflating: gdrive/My Drive/MachineLearning/__MACOSX/Model_Selection/._k_fold_cross_validation.R  \n",
            "  inflating: gdrive/My Drive/MachineLearning/Model_Selection/Social_Network_Ads.csv  \n",
            "  inflating: gdrive/My Drive/MachineLearning/__MACOSX/Model_Selection/._Social_Network_Ads.csv  \n",
            "  inflating: gdrive/My Drive/MachineLearning/__MACOSX/._Model_Selection  \n"
          ],
          "name": "stdout"
        }
      ]
    },
    {
      "metadata": {
        "id": "TfeP0OyQtYIi",
        "colab_type": "code",
        "colab": {}
      },
      "cell_type": "code",
      "source": [
        "import numpy as np\n",
        "import pandas as pd\n",
        "import matplotlib.pyplot as plt"
      ],
      "execution_count": 0,
      "outputs": []
    },
    {
      "metadata": {
        "id": "FWjU8TaGu3TI",
        "colab_type": "code",
        "colab": {}
      },
      "cell_type": "code",
      "source": [
        "dataset = pd.read_csv(\"gdrive/My Drive/MachineLearning/Kernel_PCA/Social_Network_Ads.csv\")\n"
      ],
      "execution_count": 0,
      "outputs": []
    },
    {
      "metadata": {
        "id": "RY6l6wgwvX8I",
        "colab_type": "code",
        "colab": {}
      },
      "cell_type": "code",
      "source": [
        "#Converting dataframe to Arrays\n",
        "X=dataset.iloc[:,2:3].values\n",
        "Y=dataset.iloc[:,4].values"
      ],
      "execution_count": 0,
      "outputs": []
    },
    {
      "metadata": {
        "id": "VOKejlgBy4b-",
        "colab_type": "code",
        "colab": {}
      },
      "cell_type": "code",
      "source": [
        "#Feature Scaling \n",
        "from sklearn.preprocessing import StandardScaler\n",
        "sc_X = StandardScaler()\n",
        "X = sc_X.fit_transform(X)"
      ],
      "execution_count": 0,
      "outputs": []
    },
    {
      "metadata": {
        "id": "YLWUcWML-Z7s",
        "colab_type": "code",
        "colab": {}
      },
      "cell_type": "code",
      "source": [
        "#Splittig Data into train and test\n",
        "from sklearn.model_selection import train_test_split\n",
        "X_train,X_test,Y_train,Y_test = train_test_split(X,Y,test_size=0.2,random_state = 42)"
      ],
      "execution_count": 0,
      "outputs": []
    },
    {
      "metadata": {
        "id": "iQHU7ISWezke",
        "colab_type": "code",
        "colab": {}
      },
      "cell_type": "code",
      "source": [
        "from sklearn.svm import SVC\n",
        "classifier = SVC(kernel='rbf', random_state=42)\n",
        "classifier.fit(X_train,Y_train)\n",
        "y_pred= classifier.predict(X_test)\n"
      ],
      "execution_count": 0,
      "outputs": []
    },
    {
      "metadata": {
        "id": "nIN5vao7dwaI",
        "colab_type": "code",
        "colab": {}
      },
      "cell_type": "code",
      "source": [
        "from sklearn.model_selection import cross_val_score\n",
        "acc = cross_val_score(estimator = classifier, X=X_train,y= Y_train,cv=10,)\n"
      ],
      "execution_count": 0,
      "outputs": []
    },
    {
      "metadata": {
        "id": "vf8ARjoSyJm2",
        "colab_type": "code",
        "colab": {
          "base_uri": "https://localhost:8080/",
          "height": 35
        },
        "outputId": "c5828c9d-5a75-44c9-bd3c-3a4943bd6576"
      },
      "cell_type": "code",
      "source": [
        "acc.mean()"
      ],
      "execution_count": 16,
      "outputs": [
        {
          "output_type": "execute_result",
          "data": {
            "text/plain": [
              "0.8208211143695013"
            ]
          },
          "metadata": {
            "tags": []
          },
          "execution_count": 16
        }
      ]
    },
    {
      "metadata": {
        "id": "SZd8a8OIzUp6",
        "colab_type": "code",
        "colab": {}
      },
      "cell_type": "code",
      "source": [
        ""
      ],
      "execution_count": 0,
      "outputs": []
    }
  ]
}