{
  "nbformat": 4,
  "nbformat_minor": 0,
  "metadata": {
    "colab": {
      "name": "KernelPCA.ipynb",
      "version": "0.3.2",
      "provenance": [],
      "include_colab_link": true
    },
    "kernelspec": {
      "name": "python3",
      "display_name": "Python 3"
    }
  },
  "cells": [
    {
      "cell_type": "markdown",
      "metadata": {
        "id": "view-in-github",
        "colab_type": "text"
      },
      "source": [
        "<a href=\"https://colab.research.google.com/github/agarwalanant/Machine_Learning/blob/master/KernelPCA.ipynb\" target=\"_parent\"><img src=\"https://colab.research.google.com/assets/colab-badge.svg\" alt=\"Open In Colab\"/></a>"
      ]
    },
    {
      "metadata": {
        "id": "qmVCK3_Yu_rT",
        "colab_type": "code",
        "colab": {
          "base_uri": "https://localhost:8080/",
          "height": 491
        },
        "outputId": "d610648e-4354-4c4e-a074-da67c1621842"
      },
      "cell_type": "code",
      "source": [
        "!wget http://www.superdatascience.com/wp-content/uploads/2017/02/Kernel-PCA.zip\n",
        "!unzip Kernel-PCA.zip -d gdrive/My\\ \\Drive/MachineLearning"
      ],
      "execution_count": 1,
      "outputs": [
        {
          "output_type": "stream",
          "text": [
            "--2018-10-31 10:48:12--  http://www.superdatascience.com/wp-content/uploads/2017/02/Kernel-PCA.zip\n",
            "Resolving www.superdatascience.com (www.superdatascience.com)... 104.27.173.21, 104.27.172.21, 2606:4700:30::681b:ad15, ...\n",
            "Connecting to www.superdatascience.com (www.superdatascience.com)|104.27.173.21|:80... connected.\n",
            "HTTP request sent, awaiting response... 301 Moved Permanently\n",
            "Location: https://www.superdatascience.com/wp-content/uploads/2017/02/Kernel-PCA.zip [following]\n",
            "--2018-10-31 10:48:12--  https://www.superdatascience.com/wp-content/uploads/2017/02/Kernel-PCA.zip\n",
            "Connecting to www.superdatascience.com (www.superdatascience.com)|104.27.173.21|:443... connected.\n",
            "HTTP request sent, awaiting response... 200 OK\n",
            "Length: 7214 (7.0K) [application/zip]\n",
            "Saving to: ‘Kernel-PCA.zip’\n",
            "\n",
            "\rKernel-PCA.zip        0%[                    ]       0  --.-KB/s               \rKernel-PCA.zip      100%[===================>]   7.04K  --.-KB/s    in 0s      \n",
            "\n",
            "2018-10-31 10:48:12 (38.7 MB/s) - ‘Kernel-PCA.zip’ saved [7214/7214]\n",
            "\n",
            "Archive:  Kernel-PCA.zip\n",
            "   creating: gdrive/My Drive/MachineLearning/Kernel_PCA/\n",
            "  inflating: gdrive/My Drive/MachineLearning/Kernel_PCA/kernel_pca.py  \n",
            "   creating: gdrive/My Drive/MachineLearning/__MACOSX/Kernel_PCA/\n",
            "  inflating: gdrive/My Drive/MachineLearning/__MACOSX/Kernel_PCA/._kernel_pca.py  \n",
            "  inflating: gdrive/My Drive/MachineLearning/Kernel_PCA/kernel_pca.R  \n",
            "  inflating: gdrive/My Drive/MachineLearning/__MACOSX/Kernel_PCA/._kernel_pca.R  \n",
            "  inflating: gdrive/My Drive/MachineLearning/Kernel_PCA/Social_Network_Ads.csv  \n",
            "  inflating: gdrive/My Drive/MachineLearning/__MACOSX/Kernel_PCA/._Social_Network_Ads.csv  \n",
            "  inflating: gdrive/My Drive/MachineLearning/__MACOSX/._Kernel_PCA  \n"
          ],
          "name": "stdout"
        }
      ]
    },
    {
      "metadata": {
        "id": "TfeP0OyQtYIi",
        "colab_type": "code",
        "colab": {}
      },
      "cell_type": "code",
      "source": [
        "import numpy as np\n",
        "import pandas as pd\n",
        "import matplotlib.pyplot as plt"
      ],
      "execution_count": 0,
      "outputs": []
    },
    {
      "metadata": {
        "id": "FWjU8TaGu3TI",
        "colab_type": "code",
        "colab": {}
      },
      "cell_type": "code",
      "source": [
        "dataset = pd.read_csv(\"gdrive/My Drive/MachineLearning/Kernel_PCA/Social_Network_Ads.csv\")\n"
      ],
      "execution_count": 0,
      "outputs": []
    },
    {
      "metadata": {
        "id": "RY6l6wgwvX8I",
        "colab_type": "code",
        "colab": {}
      },
      "cell_type": "code",
      "source": [
        "#Converting dataframe to Arrays\n",
        "X=dataset.iloc[:,2:3].values\n",
        "Y=dataset.iloc[:,4].values"
      ],
      "execution_count": 0,
      "outputs": []
    },
    {
      "metadata": {
        "id": "YLWUcWML-Z7s",
        "colab_type": "code",
        "colab": {}
      },
      "cell_type": "code",
      "source": [
        "#Splittig Data into train and test\n",
        "from sklearn.model_selection import train_test_split\n",
        "X_train,X_test,Y_train,Y_test = train_test_split(X,Y,test_size=0.2,random_state = 42)"
      ],
      "execution_count": 0,
      "outputs": []
    },
    {
      "metadata": {
        "id": "iQHU7ISWezke",
        "colab_type": "code",
        "colab": {}
      },
      "cell_type": "code",
      "source": [
        "#Feature Scaling \n",
        "from sklearn.preprocessing import StandardScaler\n",
        "sc_X = StandardScaler()\n",
        "X = sc_X.fit_transform(X)\n"
      ],
      "execution_count": 0,
      "outputs": []
    },
    {
      "metadata": {
        "id": "nIN5vao7dwaI",
        "colab_type": "code",
        "colab": {}
      },
      "cell_type": "code",
      "source": [
        "#Applying KernelPCA\n",
        "from sklearn.decomposition import KernelPCA as KPCA\n",
        "pca = KPCA(n_components = 2,kernel='rbf')\n",
        "X_train = pca.fit_transform(X_train)\n",
        "X_test = pca.transform(X_test)\n",
        "# varience = pca.explained_variance_ratio_"
      ],
      "execution_count": 0,
      "outputs": []
    },
    {
      "metadata": {
        "id": "t1XCuR7jrFow",
        "colab_type": "code",
        "colab": {}
      },
      "cell_type": "code",
      "source": [
        ""
      ],
      "execution_count": 0,
      "outputs": []
    },
    {
      "metadata": {
        "id": "u2X01THIFNdj",
        "colab_type": "code",
        "colab": {}
      },
      "cell_type": "code",
      "source": [
        "from sklearn.linear_model import LogisticRegression"
      ],
      "execution_count": 0,
      "outputs": []
    },
    {
      "metadata": {
        "id": "2km0RYj-FetS",
        "colab_type": "code",
        "colab": {}
      },
      "cell_type": "code",
      "source": [
        "classifier=LogisticRegression()\n",
        "classifier.fit(X_train,Y_train)\n",
        "y_pred=classifier.predict(X_test)"
      ],
      "execution_count": 0,
      "outputs": []
    },
    {
      "metadata": {
        "id": "1h399_B5FxoQ",
        "colab_type": "code",
        "outputId": "8eee7e03-89f3-451c-9e15-022b55942e9f",
        "colab": {
          "base_uri": "https://localhost:8080/",
          "height": 53
        }
      },
      "cell_type": "code",
      "source": [
        ""
      ],
      "execution_count": 15,
      "outputs": [
        {
          "output_type": "execute_result",
          "data": {
            "text/plain": [
              "array([[52,  0],\n",
              "       [28,  0]])"
            ]
          },
          "metadata": {
            "tags": []
          },
          "execution_count": 15
        }
      ]
    },
    {
      "metadata": {
        "id": "BcfMvy62vMcS",
        "colab_type": "code",
        "colab": {}
      },
      "cell_type": "code",
      "source": [
        ""
      ],
      "execution_count": 0,
      "outputs": []
    }
  ]
}